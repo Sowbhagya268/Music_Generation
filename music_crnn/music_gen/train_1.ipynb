{
 "cells": [
  {
   "cell_type": "code",
   "execution_count": 77,
   "metadata": {
    "id": "NoQV3pPWLZVo"
   },
   "outputs": [],
   "source": [
    "import pandas as pd\n",
    "import numpy as np\n",
    "import os\n",
    "import json\n",
    "from keras.models import Sequential\n",
    "from keras.layers import LSTM, Dropout, Activation, Embedding, Dense, TimeDistributed"
   ]
  },
  {
   "cell_type": "code",
   "execution_count": 78,
   "metadata": {
    "id": "PFaQ_0UoMc_v"
   },
   "outputs": [],
   "source": [
    "data_dir = \"../Data1/\"\n",
    "data_file = \"music_input.txt\"\n",
    "json_file = \"char_index.json\"\n",
    "weights_dir = \"../Data1/weights/\"\n",
    "batch_size = 16\n",
    "seq_len = 64\n"
   ]
  },
  {
   "cell_type": "markdown",
   "metadata": {},
   "source": [
    "# Dividing Data into Batches"
   ]
  },
  {
   "cell_type": "code",
   "execution_count": 79,
   "metadata": {
    "id": "Jiq14uu9VLp1"
   },
   "outputs": [],
   "source": [
    "def batches(all_chars, unique_chars) :\n",
    "  len = all_chars.shape[0]\n",
    "  batch_chars = int(len/batch_size)\n",
    "\n",
    "  for i in range(0,batch_chars-seq_len,64) :\n",
    "    x = np.zeros((batch_size,seq_len))\n",
    "    y = np.zeros((batch_size,seq_len,unique_chars))\n",
    "\n",
    "    for ind in range(0,16) :\n",
    "      for j in range(0,64) :\n",
    "        x[ind, j] = all_chars[batch_chars*ind+i+j]\n",
    "        y[ind, j, all_chars[batch_chars*ind+i+j+1]] = 1\n",
    "\n",
    "    yield x, y"
   ]
  },
  {
   "cell_type": "markdown",
   "metadata": {},
   "source": [
    "# Model Building"
   ]
  },
  {
   "cell_type": "code",
   "execution_count": 80,
   "metadata": {
    "id": "bJtyqFY-bOGn"
   },
   "outputs": [],
   "source": [
    "def model_build(batch_size, seq_len, unique_chars) :\n",
    "  model = Sequential()\n",
    "\n",
    "  model.add(Embedding(input_dim = unique_chars, output_dim = 512, batch_input_shape = (batch_size, seq_len)))\n",
    "  model.add(LSTM(256, return_sequences = True, stateful = True))\n",
    "  model.add(Dropout(0.2))\n",
    "\n",
    "  model.add(LSTM(128, return_sequences = True, stateful = True))\n",
    "  model.add(Dropout(0.2))\n",
    "\n",
    "  model.add(TimeDistributed(Dense(unique_chars)))\n",
    "  model.add(Activation('Softmax'))\n",
    "\n",
    "  return model\n",
    "  "
   ]
  },
  {
   "cell_type": "markdown",
   "metadata": {},
   "source": [
    "# Training Model"
   ]
  },
  {
   "cell_type": "code",
   "execution_count": 81,
   "metadata": {
    "id": "yHaj6P96dtBH"
   },
   "outputs": [],
   "source": [
    "def train(data, epochs = 90) :\n",
    "  char_ind = {ch : i for (i,ch) in enumerate(sorted(list(set(data))))}\n",
    "\n",
    "  with open(os.path.join(data_dir, json_file), mode = \"w\") as f :\n",
    "    json.dump(char_ind,f)\n",
    "\n",
    "  ind_char = {i : ch for (ch,i) in char_ind.items()}\n",
    "  unique_chars = len(ind_char)\n",
    "\n",
    "  model = model_build(batch_size, seq_len, unique_chars)\n",
    "  model.summary()\n",
    "\n",
    "  model.compile(loss=\"categorical_crossentropy\", optimizer = \"adam\", metrics = [\"accuracy\"])\n",
    "  \n",
    "  all_chars = np.asarray([char_ind[i] for i in data], dtype = np.int32 )\n",
    "\n",
    "  epoch_no, loss, accuracy = [], [], []\n",
    "\n",
    "  for index in range(epochs) :\n",
    "    final_epoch_loss, final_epoch_acc = 0, 0\n",
    "    epoch_no.append(index+1)\n",
    "\n",
    "    for i, (x,y) in enumerate(batches(all_chars, unique_chars)) :\n",
    "      final_epoch_loss, final_epoch_acc = model.train_on_batch(x,y)\n",
    "    \n",
    "    loss.append(final_epoch_loss)\n",
    "    accuracy.append(final_epoch_acc)\n",
    "\n",
    "    if (index+1) % 10 == 0 :\n",
    "      if not os.path.exists(weights_dir):\n",
    "        os.makedirs(weights_dir)\n",
    "      model.save_weights(os.path.join(weights_dir, \"Weights_{}.h5\".format(index+1)))\n",
    "      print('Saved weights at epoch {} to file Weights_{}.h5'.format(index+1,index+1))\n",
    "\n",
    "  log_frame = pd.DataFrame(columns = [\"Epoch\", \"Loss\", \"Accuracy\"])\n",
    "  log_frame[\"Epoch\"] = epoch_no\n",
    "  log_frame['Loss'] = loss\n",
    "  log_frame['Accuracy'] = accuracy\n",
    "  print(log_frame.head())\n",
    "\n",
    "  log_frame.to_csv(\"../Data1/log.csv\", index = False)\n",
    "\n"
   ]
  },
  {
   "cell_type": "code",
   "execution_count": 82,
   "metadata": {
    "colab": {
     "base_uri": "https://localhost:8080/",
     "height": 215
    },
    "id": "LoI8qiXXkCRL",
    "outputId": "b6a84bda-d1c4-49ab-a9c8-822e9c212d65"
   },
   "outputs": [
    {
     "name": "stdout",
     "output_type": "stream",
     "text": [
      "Model: \"sequential_17\"\n",
      "_________________________________________________________________\n",
      "Layer (type)                 Output Shape              Param #   \n",
      "=================================================================\n",
      "embedding_16 (Embedding)     (16, 64, 512)             44544     \n",
      "_________________________________________________________________\n",
      "lstm_32 (LSTM)               (16, 64, 256)             787456    \n",
      "_________________________________________________________________\n",
      "dropout_32 (Dropout)         (16, 64, 256)             0         \n",
      "_________________________________________________________________\n",
      "lstm_33 (LSTM)               (16, 64, 128)             197120    \n",
      "_________________________________________________________________\n",
      "dropout_33 (Dropout)         (16, 64, 128)             0         \n",
      "_________________________________________________________________\n",
      "time_distributed_16 (TimeDis (16, 64, 87)              11223     \n",
      "_________________________________________________________________\n",
      "activation_16 (Activation)   (16, 64, 87)              0         \n",
      "=================================================================\n",
      "Total params: 1,040,343\n",
      "Trainable params: 1,040,343\n",
      "Non-trainable params: 0\n",
      "_________________________________________________________________\n",
      "Saved weights at epoch 10 to file Weights_10.h5\n",
      "Saved weights at epoch 20 to file Weights_20.h5\n",
      "Saved weights at epoch 30 to file Weights_30.h5\n",
      "Saved weights at epoch 40 to file Weights_40.h5\n",
      "Saved weights at epoch 50 to file Weights_50.h5\n",
      "Saved weights at epoch 60 to file Weights_60.h5\n",
      "Saved weights at epoch 70 to file Weights_70.h5\n",
      "Saved weights at epoch 80 to file Weights_80.h5\n",
      "Saved weights at epoch 90 to file Weights_90.h5\n",
      "   Epoch      Loss  Accuracy\n",
      "0      1  2.913778  0.245117\n",
      "1      2  2.268776  0.374023\n",
      "2      3  1.889107  0.472656\n",
      "3      4  1.651544  0.528320\n",
      "4      5  1.534033  0.544922\n"
     ]
    }
   ],
   "source": [
    "file = open(os.path.join(data_dir, data_file), mode = 'r')\n",
    "data = file.read()\n",
    "file.close()\n",
    "train(data)"
   ]
  },
  {
   "cell_type": "code",
   "execution_count": 83,
   "metadata": {},
   "outputs": [
    {
     "name": "stdout",
     "output_type": "stream",
     "text": [
      "    Epoch      Loss  Accuracy\n",
      "0       1  2.913778  0.245117\n",
      "1       2  2.268776  0.374023\n",
      "2       3  1.889107  0.472656\n",
      "3       4  1.651544  0.528320\n",
      "4       5  1.534033  0.544922\n",
      "..    ...       ...       ...\n",
      "85     86  0.508480  0.830078\n",
      "86     87  0.476736  0.846680\n",
      "87     88  0.477651  0.851562\n",
      "88     89  0.484024  0.847656\n",
      "89     90  0.464463  0.846680\n",
      "\n",
      "[90 rows x 3 columns]\n"
     ]
    }
   ],
   "source": [
    "log = pd.read_csv(os.path.join(data_dir, \"log.csv\"))\n",
    "print(log)"
   ]
  },
  {
   "cell_type": "code",
   "execution_count": null,
   "metadata": {},
   "outputs": [],
   "source": []
  }
 ],
 "metadata": {
  "colab": {
   "collapsed_sections": [],
   "name": "train_1.ipynb",
   "provenance": []
  },
  "kernelspec": {
   "display_name": "Python 3",
   "language": "python",
   "name": "python3"
  },
  "language_info": {
   "codemirror_mode": {
    "name": "ipython",
    "version": 3
   },
   "file_extension": ".py",
   "mimetype": "text/x-python",
   "name": "python",
   "nbconvert_exporter": "python",
   "pygments_lexer": "ipython3",
   "version": "3.8.8"
  }
 },
 "nbformat": 4,
 "nbformat_minor": 1
}
