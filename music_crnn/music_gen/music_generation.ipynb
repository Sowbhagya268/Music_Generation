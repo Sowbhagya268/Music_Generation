{
 "cells": [
  {
   "cell_type": "code",
   "execution_count": 7,
   "id": "japanese-ethernet",
   "metadata": {},
   "outputs": [],
   "source": [
    "import os\n",
    "import json\n",
    "import numpy as np\n",
    "import pandas as pd\n",
    "from keras.models import Sequential\n",
    "from keras.layers import LSTM, Activation, Dense, Embedding, Dropout"
   ]
  },
  {
   "cell_type": "code",
   "execution_count": 8,
   "id": "competent-opening",
   "metadata": {},
   "outputs": [],
   "source": [
    "data_dir = \"../Data2/\"\n",
    "data_file = \"music_input.txt\"\n",
    "weights_dir = \"../Data2/weights/\"\n",
    "json_file = \"char_index.json\"\n",
    "batch_size = 16\n",
    "seq_len = 64"
   ]
  },
  {
   "cell_type": "markdown",
   "id": "african-picnic",
   "metadata": {},
   "source": [
    "# Model Building"
   ]
  },
  {
   "cell_type": "code",
   "execution_count": 9,
   "id": "amended-armstrong",
   "metadata": {},
   "outputs": [],
   "source": [
    "def model_build(unique_chars) :\n",
    "    \n",
    "    model = Sequential()\n",
    "    \n",
    "    model.add(Embedding(input_dim = unique_chars, output_dim = 512, batch_input_shape = (1,1)))\n",
    "              \n",
    "    model.add(LSTM(256, return_sequences = True, stateful = True))\n",
    "    model.add(Dropout(0.2))\n",
    "              \n",
    "    model.add(LSTM(256, return_sequences = True, stateful = True))\n",
    "    model.add(Dropout(0.2))\n",
    "              \n",
    "    model.add(LSTM(256, stateful = True))\n",
    "    model.add(Dropout(0.2))\n",
    "    \n",
    "    model.add(Dense(unique_chars))\n",
    "    model.add(Activation(\"Softmax\"))\n",
    "              \n",
    "    return model\n",
    "    "
   ]
  },
  {
   "cell_type": "markdown",
   "id": "expressed-phase",
   "metadata": {},
   "source": [
    "# Testing Model"
   ]
  },
  {
   "cell_type": "code",
   "execution_count": 10,
   "id": "scenic-format",
   "metadata": {},
   "outputs": [],
   "source": [
    "def music_gen(epoch_no, init_index, len_seq) :\n",
    "    \n",
    "    with open(os.path.join(data_dir, json_file), mode = \"r\") as f :\n",
    "        char_ind = json.load(f)\n",
    "        \n",
    "    ind_char = {i : ch for (ch,i) in char_ind.items()}\n",
    "    unique_chars = len(ind_char)\n",
    "    \n",
    "    model = model_build(unique_chars)\n",
    "    model.load_weights(weights_dir+\"Weights_{}.h5\".format(epoch_no))\n",
    "    \n",
    "    sequence_ind = [init_index]\n",
    "    \n",
    "    for i in range(len_seq) :\n",
    "        batch = np.zeros((1,1))\n",
    "        batch[0,0] = sequence_ind[-1]\n",
    "        \n",
    "        predicted_prob = model.predict_on_batch(batch).ravel()\n",
    "        sample = np.random.choice(range(unique_chars), size = 1, p = predicted_prob)\n",
    "        \n",
    "        sequence_ind.append(sample[0])\n",
    "        \n",
    "    seq = \"\".join(ind_char[i] for i in sequence_ind)  \n",
    "    \n",
    "    c = 0\n",
    "    for i in seq :\n",
    "        c += 1\n",
    "        if i == \"\\n\" :\n",
    "            break\n",
    "    seq1 = seq[c:]\n",
    "    \n",
    "    c = 0\n",
    "    for i in seq1 :\n",
    "        c += 1\n",
    "        if i == \"\\n\" and seq1[c] == \"\\n\" :\n",
    "            break\n",
    "    seq2 = seq1[c:]\n",
    "    \n",
    "    return seq2\n",
    "          "
   ]
  },
  {
   "cell_type": "code",
   "execution_count": 11,
   "id": "billion-blowing",
   "metadata": {},
   "outputs": [
    {
     "name": "stdout",
     "output_type": "stream",
     "text": [
      "90\n",
      "80\n",
      "400\n",
      "\n",
      "X: 24\n",
      "T:Blackthery Qorkide\n",
      "% Nottingham Music Database\n",
      "S:Trad, arr Phil Rowe\n",
      "M:6/8\n",
      "K:C\n",
      "E2F |\"C\"G3 \"F7\"A2F|\"F\"C3 \"D7\"ABc|\n",
      "\"G\"B3 -\"D7\"B2c|\"G\"d2B GBd|\"C\"e3 \"Em\"ded|\"Am\"c3 \"D7\"A3|\n",
      "\"G\"GAG \"C\"g2e|\"G\"dBG \"D7\"ABA|\"G\"G3 -G2:|\n",
      "P:B\n",
      "d|\"D7\"c2d e2f|\"G\"g2e \"Em\"dcB|\"Am\"A2A \"D7\"A2A|\"G\"B2G DBc|\n",
      "\"G\"d2d \"A7\"ede|\"D\"f2d fgf|\"D7\"e2f def|\"G\"g3 g2f|\n",
      "\"Am\"e2f \"D7\"e2f|\n"
     ]
    }
   ],
   "source": [
    "epoch_no = int(input())\n",
    "init_ind = int(input())\n",
    "len_seq = int(input())\n",
    "print(music_gen(epoch_no, init_ind, len_seq))"
   ]
  },
  {
   "cell_type": "code",
   "execution_count": null,
   "id": "atmospheric-musical",
   "metadata": {},
   "outputs": [],
   "source": []
  }
 ],
 "metadata": {
  "kernelspec": {
   "display_name": "Python 3",
   "language": "python",
   "name": "python3"
  },
  "language_info": {
   "codemirror_mode": {
    "name": "ipython",
    "version": 3
   },
   "file_extension": ".py",
   "mimetype": "text/x-python",
   "name": "python",
   "nbconvert_exporter": "python",
   "pygments_lexer": "ipython3",
   "version": "3.8.8"
  }
 },
 "nbformat": 4,
 "nbformat_minor": 5
}
